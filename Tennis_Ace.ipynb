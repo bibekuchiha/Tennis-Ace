{
 "cells": [
  {
   "cell_type": "code",
   "execution_count": 40,
   "metadata": {},
   "outputs": [],
   "source": [
    "#Importing libraries\n",
    "import numpy as np\n",
    "import pandas as pd\n",
    "import matplotlib.pyplot as plt\n",
    "import seaborn as sns\n",
    "from sklearn.model_selection import train_test_split\n",
    "from sklearn.linear_model import LinearRegression"
   ]
  },
  {
   "cell_type": "code",
   "execution_count": 41,
   "metadata": {},
   "outputs": [
    {
     "data": {
      "text/html": [
       "<div>\n",
       "<style scoped>\n",
       "    .dataframe tbody tr th:only-of-type {\n",
       "        vertical-align: middle;\n",
       "    }\n",
       "\n",
       "    .dataframe tbody tr th {\n",
       "        vertical-align: top;\n",
       "    }\n",
       "\n",
       "    .dataframe thead th {\n",
       "        text-align: right;\n",
       "    }\n",
       "</style>\n",
       "<table border=\"1\" class=\"dataframe\">\n",
       "  <thead>\n",
       "    <tr style=\"text-align: right;\">\n",
       "      <th></th>\n",
       "      <th>Player</th>\n",
       "      <th>Year</th>\n",
       "      <th>FirstServe</th>\n",
       "      <th>FirstServePointsWon</th>\n",
       "      <th>FirstServeReturnPointsWon</th>\n",
       "      <th>SecondServePointsWon</th>\n",
       "      <th>SecondServeReturnPointsWon</th>\n",
       "      <th>Aces</th>\n",
       "      <th>BreakPointsConverted</th>\n",
       "      <th>BreakPointsFaced</th>\n",
       "      <th>...</th>\n",
       "      <th>ReturnGamesWon</th>\n",
       "      <th>ReturnPointsWon</th>\n",
       "      <th>ServiceGamesPlayed</th>\n",
       "      <th>ServiceGamesWon</th>\n",
       "      <th>TotalPointsWon</th>\n",
       "      <th>TotalServicePointsWon</th>\n",
       "      <th>Wins</th>\n",
       "      <th>Losses</th>\n",
       "      <th>Winnings</th>\n",
       "      <th>Ranking</th>\n",
       "    </tr>\n",
       "  </thead>\n",
       "  <tbody>\n",
       "    <tr>\n",
       "      <th>0</th>\n",
       "      <td>Pedro Sousa</td>\n",
       "      <td>2016</td>\n",
       "      <td>0.88</td>\n",
       "      <td>0.50</td>\n",
       "      <td>0.38</td>\n",
       "      <td>0.50</td>\n",
       "      <td>0.39</td>\n",
       "      <td>0</td>\n",
       "      <td>0.14</td>\n",
       "      <td>7</td>\n",
       "      <td>...</td>\n",
       "      <td>0.11</td>\n",
       "      <td>0.38</td>\n",
       "      <td>8</td>\n",
       "      <td>0.50</td>\n",
       "      <td>0.43</td>\n",
       "      <td>0.50</td>\n",
       "      <td>1</td>\n",
       "      <td>2</td>\n",
       "      <td>39820</td>\n",
       "      <td>119</td>\n",
       "    </tr>\n",
       "    <tr>\n",
       "      <th>1</th>\n",
       "      <td>Roman Safiullin</td>\n",
       "      <td>2017</td>\n",
       "      <td>0.84</td>\n",
       "      <td>0.62</td>\n",
       "      <td>0.26</td>\n",
       "      <td>0.33</td>\n",
       "      <td>0.07</td>\n",
       "      <td>7</td>\n",
       "      <td>0.00</td>\n",
       "      <td>7</td>\n",
       "      <td>...</td>\n",
       "      <td>0.00</td>\n",
       "      <td>0.20</td>\n",
       "      <td>9</td>\n",
       "      <td>0.67</td>\n",
       "      <td>0.41</td>\n",
       "      <td>0.57</td>\n",
       "      <td>0</td>\n",
       "      <td>1</td>\n",
       "      <td>17334</td>\n",
       "      <td>381</td>\n",
       "    </tr>\n",
       "    <tr>\n",
       "      <th>2</th>\n",
       "      <td>Pedro Sousa</td>\n",
       "      <td>2017</td>\n",
       "      <td>0.83</td>\n",
       "      <td>0.60</td>\n",
       "      <td>0.28</td>\n",
       "      <td>0.53</td>\n",
       "      <td>0.44</td>\n",
       "      <td>2</td>\n",
       "      <td>0.38</td>\n",
       "      <td>10</td>\n",
       "      <td>...</td>\n",
       "      <td>0.16</td>\n",
       "      <td>0.34</td>\n",
       "      <td>17</td>\n",
       "      <td>0.65</td>\n",
       "      <td>0.45</td>\n",
       "      <td>0.59</td>\n",
       "      <td>4</td>\n",
       "      <td>1</td>\n",
       "      <td>109827</td>\n",
       "      <td>119</td>\n",
       "    </tr>\n",
       "    <tr>\n",
       "      <th>3</th>\n",
       "      <td>Rogerio Dutra Silva</td>\n",
       "      <td>2010</td>\n",
       "      <td>0.83</td>\n",
       "      <td>0.64</td>\n",
       "      <td>0.34</td>\n",
       "      <td>0.59</td>\n",
       "      <td>0.33</td>\n",
       "      <td>2</td>\n",
       "      <td>0.33</td>\n",
       "      <td>5</td>\n",
       "      <td>...</td>\n",
       "      <td>0.14</td>\n",
       "      <td>0.34</td>\n",
       "      <td>15</td>\n",
       "      <td>0.80</td>\n",
       "      <td>0.49</td>\n",
       "      <td>0.63</td>\n",
       "      <td>0</td>\n",
       "      <td>0</td>\n",
       "      <td>9761</td>\n",
       "      <td>125</td>\n",
       "    </tr>\n",
       "    <tr>\n",
       "      <th>4</th>\n",
       "      <td>Daniel Gimeno-Traver</td>\n",
       "      <td>2017</td>\n",
       "      <td>0.81</td>\n",
       "      <td>0.54</td>\n",
       "      <td>0.00</td>\n",
       "      <td>0.33</td>\n",
       "      <td>0.33</td>\n",
       "      <td>1</td>\n",
       "      <td>0.00</td>\n",
       "      <td>2</td>\n",
       "      <td>...</td>\n",
       "      <td>0.00</td>\n",
       "      <td>0.20</td>\n",
       "      <td>2</td>\n",
       "      <td>0.50</td>\n",
       "      <td>0.35</td>\n",
       "      <td>0.50</td>\n",
       "      <td>0</td>\n",
       "      <td>1</td>\n",
       "      <td>32879</td>\n",
       "      <td>272</td>\n",
       "    </tr>\n",
       "  </tbody>\n",
       "</table>\n",
       "<p>5 rows × 24 columns</p>\n",
       "</div>"
      ],
      "text/plain": [
       "                 Player  Year  FirstServe  FirstServePointsWon  \\\n",
       "0           Pedro Sousa  2016        0.88                 0.50   \n",
       "1       Roman Safiullin  2017        0.84                 0.62   \n",
       "2           Pedro Sousa  2017        0.83                 0.60   \n",
       "3   Rogerio Dutra Silva  2010        0.83                 0.64   \n",
       "4  Daniel Gimeno-Traver  2017        0.81                 0.54   \n",
       "\n",
       "   FirstServeReturnPointsWon  SecondServePointsWon  \\\n",
       "0                       0.38                  0.50   \n",
       "1                       0.26                  0.33   \n",
       "2                       0.28                  0.53   \n",
       "3                       0.34                  0.59   \n",
       "4                       0.00                  0.33   \n",
       "\n",
       "   SecondServeReturnPointsWon  Aces  BreakPointsConverted  BreakPointsFaced  \\\n",
       "0                        0.39     0                  0.14                 7   \n",
       "1                        0.07     7                  0.00                 7   \n",
       "2                        0.44     2                  0.38                10   \n",
       "3                        0.33     2                  0.33                 5   \n",
       "4                        0.33     1                  0.00                 2   \n",
       "\n",
       "   ...  ReturnGamesWon  ReturnPointsWon  ServiceGamesPlayed  ServiceGamesWon  \\\n",
       "0  ...            0.11             0.38                   8             0.50   \n",
       "1  ...            0.00             0.20                   9             0.67   \n",
       "2  ...            0.16             0.34                  17             0.65   \n",
       "3  ...            0.14             0.34                  15             0.80   \n",
       "4  ...            0.00             0.20                   2             0.50   \n",
       "\n",
       "   TotalPointsWon  TotalServicePointsWon  Wins  Losses  Winnings  Ranking  \n",
       "0            0.43                   0.50     1       2     39820      119  \n",
       "1            0.41                   0.57     0       1     17334      381  \n",
       "2            0.45                   0.59     4       1    109827      119  \n",
       "3            0.49                   0.63     0       0      9761      125  \n",
       "4            0.35                   0.50     0       1     32879      272  \n",
       "\n",
       "[5 rows x 24 columns]"
      ]
     },
     "execution_count": 41,
     "metadata": {},
     "output_type": "execute_result"
    }
   ],
   "source": [
    "# load and investigate the data here:\n",
    "df = pd.read_csv('tennis_stats.csv')\n",
    "df.head()"
   ]
  },
  {
   "cell_type": "code",
   "execution_count": 42,
   "metadata": {},
   "outputs": [
    {
     "data": {
      "text/plain": [
       "Index(['Player', 'Year', 'FirstServe', 'FirstServePointsWon',\n",
       "       'FirstServeReturnPointsWon', 'SecondServePointsWon',\n",
       "       'SecondServeReturnPointsWon', 'Aces', 'BreakPointsConverted',\n",
       "       'BreakPointsFaced', 'BreakPointsOpportunities', 'BreakPointsSaved',\n",
       "       'DoubleFaults', 'ReturnGamesPlayed', 'ReturnGamesWon',\n",
       "       'ReturnPointsWon', 'ServiceGamesPlayed', 'ServiceGamesWon',\n",
       "       'TotalPointsWon', 'TotalServicePointsWon', 'Wins', 'Losses', 'Winnings',\n",
       "       'Ranking'],\n",
       "      dtype='object')"
      ]
     },
     "execution_count": 42,
     "metadata": {},
     "output_type": "execute_result"
    }
   ],
   "source": [
    "df.columns"
   ]
  },
  {
   "cell_type": "code",
   "execution_count": 43,
   "metadata": {},
   "outputs": [
    {
     "name": "stdout",
     "output_type": "stream",
     "text": [
      "<class 'pandas.core.frame.DataFrame'>\n",
      "RangeIndex: 1721 entries, 0 to 1720\n",
      "Data columns (total 24 columns):\n",
      " #   Column                      Non-Null Count  Dtype  \n",
      "---  ------                      --------------  -----  \n",
      " 0   Player                      1721 non-null   object \n",
      " 1   Year                        1721 non-null   int64  \n",
      " 2   FirstServe                  1721 non-null   float64\n",
      " 3   FirstServePointsWon         1721 non-null   float64\n",
      " 4   FirstServeReturnPointsWon   1721 non-null   float64\n",
      " 5   SecondServePointsWon        1721 non-null   float64\n",
      " 6   SecondServeReturnPointsWon  1721 non-null   float64\n",
      " 7   Aces                        1721 non-null   int64  \n",
      " 8   BreakPointsConverted        1721 non-null   float64\n",
      " 9   BreakPointsFaced            1721 non-null   int64  \n",
      " 10  BreakPointsOpportunities    1721 non-null   int64  \n",
      " 11  BreakPointsSaved            1721 non-null   float64\n",
      " 12  DoubleFaults                1721 non-null   int64  \n",
      " 13  ReturnGamesPlayed           1721 non-null   int64  \n",
      " 14  ReturnGamesWon              1721 non-null   float64\n",
      " 15  ReturnPointsWon             1721 non-null   float64\n",
      " 16  ServiceGamesPlayed          1721 non-null   int64  \n",
      " 17  ServiceGamesWon             1721 non-null   float64\n",
      " 18  TotalPointsWon              1721 non-null   float64\n",
      " 19  TotalServicePointsWon       1721 non-null   float64\n",
      " 20  Wins                        1721 non-null   int64  \n",
      " 21  Losses                      1721 non-null   int64  \n",
      " 22  Winnings                    1721 non-null   int64  \n",
      " 23  Ranking                     1721 non-null   int64  \n",
      "dtypes: float64(12), int64(11), object(1)\n",
      "memory usage: 322.8+ KB\n"
     ]
    }
   ],
   "source": [
    "df.info()"
   ]
  },
  {
   "cell_type": "code",
   "execution_count": 44,
   "metadata": {},
   "outputs": [
    {
     "data": {
      "text/html": [
       "<div>\n",
       "<style scoped>\n",
       "    .dataframe tbody tr th:only-of-type {\n",
       "        vertical-align: middle;\n",
       "    }\n",
       "\n",
       "    .dataframe tbody tr th {\n",
       "        vertical-align: top;\n",
       "    }\n",
       "\n",
       "    .dataframe thead th {\n",
       "        text-align: right;\n",
       "    }\n",
       "</style>\n",
       "<table border=\"1\" class=\"dataframe\">\n",
       "  <thead>\n",
       "    <tr style=\"text-align: right;\">\n",
       "      <th></th>\n",
       "      <th>Year</th>\n",
       "      <th>FirstServe</th>\n",
       "      <th>FirstServePointsWon</th>\n",
       "      <th>FirstServeReturnPointsWon</th>\n",
       "      <th>SecondServePointsWon</th>\n",
       "      <th>SecondServeReturnPointsWon</th>\n",
       "      <th>Aces</th>\n",
       "      <th>BreakPointsConverted</th>\n",
       "      <th>BreakPointsFaced</th>\n",
       "      <th>BreakPointsOpportunities</th>\n",
       "      <th>...</th>\n",
       "      <th>ReturnGamesWon</th>\n",
       "      <th>ReturnPointsWon</th>\n",
       "      <th>ServiceGamesPlayed</th>\n",
       "      <th>ServiceGamesWon</th>\n",
       "      <th>TotalPointsWon</th>\n",
       "      <th>TotalServicePointsWon</th>\n",
       "      <th>Wins</th>\n",
       "      <th>Losses</th>\n",
       "      <th>Winnings</th>\n",
       "      <th>Ranking</th>\n",
       "    </tr>\n",
       "  </thead>\n",
       "  <tbody>\n",
       "    <tr>\n",
       "      <th>count</th>\n",
       "      <td>1721.000000</td>\n",
       "      <td>1721.000000</td>\n",
       "      <td>1721.000000</td>\n",
       "      <td>1721.000000</td>\n",
       "      <td>1721.000000</td>\n",
       "      <td>1721.000000</td>\n",
       "      <td>1721.000000</td>\n",
       "      <td>1721.000000</td>\n",
       "      <td>1721.000000</td>\n",
       "      <td>1721.000000</td>\n",
       "      <td>...</td>\n",
       "      <td>1721.000000</td>\n",
       "      <td>1721.000000</td>\n",
       "      <td>1721.000000</td>\n",
       "      <td>1721.000000</td>\n",
       "      <td>1721.000000</td>\n",
       "      <td>1721.000000</td>\n",
       "      <td>1721.000000</td>\n",
       "      <td>1721.000000</td>\n",
       "      <td>1.721000e+03</td>\n",
       "      <td>1721.000000</td>\n",
       "    </tr>\n",
       "    <tr>\n",
       "      <th>mean</th>\n",
       "      <td>2013.646717</td>\n",
       "      <td>0.598053</td>\n",
       "      <td>0.680738</td>\n",
       "      <td>0.261673</td>\n",
       "      <td>0.479733</td>\n",
       "      <td>0.466432</td>\n",
       "      <td>97.105171</td>\n",
       "      <td>0.369407</td>\n",
       "      <td>112.003486</td>\n",
       "      <td>102.918071</td>\n",
       "      <td>...</td>\n",
       "      <td>0.173823</td>\n",
       "      <td>0.342208</td>\n",
       "      <td>197.650203</td>\n",
       "      <td>0.715590</td>\n",
       "      <td>0.473155</td>\n",
       "      <td>0.599245</td>\n",
       "      <td>7.876816</td>\n",
       "      <td>9.278908</td>\n",
       "      <td>2.344928e+05</td>\n",
       "      <td>269.610691</td>\n",
       "    </tr>\n",
       "    <tr>\n",
       "      <th>std</th>\n",
       "      <td>2.488018</td>\n",
       "      <td>0.054533</td>\n",
       "      <td>0.070422</td>\n",
       "      <td>0.056639</td>\n",
       "      <td>0.066902</td>\n",
       "      <td>0.068447</td>\n",
       "      <td>137.966077</td>\n",
       "      <td>0.162987</td>\n",
       "      <td>119.247651</td>\n",
       "      <td>122.761670</td>\n",
       "      <td>...</td>\n",
       "      <td>0.080880</td>\n",
       "      <td>0.049369</td>\n",
       "      <td>221.208703</td>\n",
       "      <td>0.123287</td>\n",
       "      <td>0.037139</td>\n",
       "      <td>0.057718</td>\n",
       "      <td>10.183716</td>\n",
       "      <td>8.996450</td>\n",
       "      <td>2.530537e+05</td>\n",
       "      <td>277.341947</td>\n",
       "    </tr>\n",
       "    <tr>\n",
       "      <th>min</th>\n",
       "      <td>2009.000000</td>\n",
       "      <td>0.360000</td>\n",
       "      <td>0.270000</td>\n",
       "      <td>0.000000</td>\n",
       "      <td>0.060000</td>\n",
       "      <td>0.000000</td>\n",
       "      <td>0.000000</td>\n",
       "      <td>0.000000</td>\n",
       "      <td>1.000000</td>\n",
       "      <td>0.000000</td>\n",
       "      <td>...</td>\n",
       "      <td>0.000000</td>\n",
       "      <td>0.000000</td>\n",
       "      <td>0.000000</td>\n",
       "      <td>0.000000</td>\n",
       "      <td>0.220000</td>\n",
       "      <td>0.250000</td>\n",
       "      <td>0.000000</td>\n",
       "      <td>0.000000</td>\n",
       "      <td>1.080000e+02</td>\n",
       "      <td>3.000000</td>\n",
       "    </tr>\n",
       "    <tr>\n",
       "      <th>25%</th>\n",
       "      <td>2012.000000</td>\n",
       "      <td>0.570000</td>\n",
       "      <td>0.650000</td>\n",
       "      <td>0.240000</td>\n",
       "      <td>0.460000</td>\n",
       "      <td>0.440000</td>\n",
       "      <td>7.000000</td>\n",
       "      <td>0.320000</td>\n",
       "      <td>15.000000</td>\n",
       "      <td>9.000000</td>\n",
       "      <td>...</td>\n",
       "      <td>0.130000</td>\n",
       "      <td>0.320000</td>\n",
       "      <td>22.000000</td>\n",
       "      <td>0.670000</td>\n",
       "      <td>0.460000</td>\n",
       "      <td>0.570000</td>\n",
       "      <td>0.000000</td>\n",
       "      <td>2.000000</td>\n",
       "      <td>4.931100e+04</td>\n",
       "      <td>83.000000</td>\n",
       "    </tr>\n",
       "    <tr>\n",
       "      <th>50%</th>\n",
       "      <td>2014.000000</td>\n",
       "      <td>0.600000</td>\n",
       "      <td>0.690000</td>\n",
       "      <td>0.270000</td>\n",
       "      <td>0.490000</td>\n",
       "      <td>0.480000</td>\n",
       "      <td>34.000000</td>\n",
       "      <td>0.380000</td>\n",
       "      <td>55.000000</td>\n",
       "      <td>41.000000</td>\n",
       "      <td>...</td>\n",
       "      <td>0.180000</td>\n",
       "      <td>0.350000</td>\n",
       "      <td>86.000000</td>\n",
       "      <td>0.750000</td>\n",
       "      <td>0.480000</td>\n",
       "      <td>0.610000</td>\n",
       "      <td>3.000000</td>\n",
       "      <td>5.000000</td>\n",
       "      <td>1.252120e+05</td>\n",
       "      <td>166.000000</td>\n",
       "    </tr>\n",
       "    <tr>\n",
       "      <th>75%</th>\n",
       "      <td>2016.000000</td>\n",
       "      <td>0.630000</td>\n",
       "      <td>0.720000</td>\n",
       "      <td>0.290000</td>\n",
       "      <td>0.520000</td>\n",
       "      <td>0.500000</td>\n",
       "      <td>140.000000</td>\n",
       "      <td>0.430000</td>\n",
       "      <td>201.000000</td>\n",
       "      <td>172.000000</td>\n",
       "      <td>...</td>\n",
       "      <td>0.220000</td>\n",
       "      <td>0.370000</td>\n",
       "      <td>348.000000</td>\n",
       "      <td>0.790000</td>\n",
       "      <td>0.500000</td>\n",
       "      <td>0.630000</td>\n",
       "      <td>13.000000</td>\n",
       "      <td>17.000000</td>\n",
       "      <td>3.500750e+05</td>\n",
       "      <td>333.000000</td>\n",
       "    </tr>\n",
       "    <tr>\n",
       "      <th>max</th>\n",
       "      <td>2017.000000</td>\n",
       "      <td>0.880000</td>\n",
       "      <td>0.890000</td>\n",
       "      <td>0.480000</td>\n",
       "      <td>0.920000</td>\n",
       "      <td>0.750000</td>\n",
       "      <td>1185.000000</td>\n",
       "      <td>1.000000</td>\n",
       "      <td>507.000000</td>\n",
       "      <td>573.000000</td>\n",
       "      <td>...</td>\n",
       "      <td>0.560000</td>\n",
       "      <td>0.510000</td>\n",
       "      <td>916.000000</td>\n",
       "      <td>1.000000</td>\n",
       "      <td>0.820000</td>\n",
       "      <td>0.820000</td>\n",
       "      <td>48.000000</td>\n",
       "      <td>36.000000</td>\n",
       "      <td>1.074562e+06</td>\n",
       "      <td>1443.000000</td>\n",
       "    </tr>\n",
       "  </tbody>\n",
       "</table>\n",
       "<p>8 rows × 23 columns</p>\n",
       "</div>"
      ],
      "text/plain": [
       "              Year   FirstServe  FirstServePointsWon  \\\n",
       "count  1721.000000  1721.000000          1721.000000   \n",
       "mean   2013.646717     0.598053             0.680738   \n",
       "std       2.488018     0.054533             0.070422   \n",
       "min    2009.000000     0.360000             0.270000   \n",
       "25%    2012.000000     0.570000             0.650000   \n",
       "50%    2014.000000     0.600000             0.690000   \n",
       "75%    2016.000000     0.630000             0.720000   \n",
       "max    2017.000000     0.880000             0.890000   \n",
       "\n",
       "       FirstServeReturnPointsWon  SecondServePointsWon  \\\n",
       "count                1721.000000           1721.000000   \n",
       "mean                    0.261673              0.479733   \n",
       "std                     0.056639              0.066902   \n",
       "min                     0.000000              0.060000   \n",
       "25%                     0.240000              0.460000   \n",
       "50%                     0.270000              0.490000   \n",
       "75%                     0.290000              0.520000   \n",
       "max                     0.480000              0.920000   \n",
       "\n",
       "       SecondServeReturnPointsWon         Aces  BreakPointsConverted  \\\n",
       "count                 1721.000000  1721.000000           1721.000000   \n",
       "mean                     0.466432    97.105171              0.369407   \n",
       "std                      0.068447   137.966077              0.162987   \n",
       "min                      0.000000     0.000000              0.000000   \n",
       "25%                      0.440000     7.000000              0.320000   \n",
       "50%                      0.480000    34.000000              0.380000   \n",
       "75%                      0.500000   140.000000              0.430000   \n",
       "max                      0.750000  1185.000000              1.000000   \n",
       "\n",
       "       BreakPointsFaced  BreakPointsOpportunities  ...  ReturnGamesWon  \\\n",
       "count       1721.000000               1721.000000  ...     1721.000000   \n",
       "mean         112.003486                102.918071  ...        0.173823   \n",
       "std          119.247651                122.761670  ...        0.080880   \n",
       "min            1.000000                  0.000000  ...        0.000000   \n",
       "25%           15.000000                  9.000000  ...        0.130000   \n",
       "50%           55.000000                 41.000000  ...        0.180000   \n",
       "75%          201.000000                172.000000  ...        0.220000   \n",
       "max          507.000000                573.000000  ...        0.560000   \n",
       "\n",
       "       ReturnPointsWon  ServiceGamesPlayed  ServiceGamesWon  TotalPointsWon  \\\n",
       "count      1721.000000         1721.000000      1721.000000     1721.000000   \n",
       "mean          0.342208          197.650203         0.715590        0.473155   \n",
       "std           0.049369          221.208703         0.123287        0.037139   \n",
       "min           0.000000            0.000000         0.000000        0.220000   \n",
       "25%           0.320000           22.000000         0.670000        0.460000   \n",
       "50%           0.350000           86.000000         0.750000        0.480000   \n",
       "75%           0.370000          348.000000         0.790000        0.500000   \n",
       "max           0.510000          916.000000         1.000000        0.820000   \n",
       "\n",
       "       TotalServicePointsWon         Wins       Losses      Winnings  \\\n",
       "count            1721.000000  1721.000000  1721.000000  1.721000e+03   \n",
       "mean                0.599245     7.876816     9.278908  2.344928e+05   \n",
       "std                 0.057718    10.183716     8.996450  2.530537e+05   \n",
       "min                 0.250000     0.000000     0.000000  1.080000e+02   \n",
       "25%                 0.570000     0.000000     2.000000  4.931100e+04   \n",
       "50%                 0.610000     3.000000     5.000000  1.252120e+05   \n",
       "75%                 0.630000    13.000000    17.000000  3.500750e+05   \n",
       "max                 0.820000    48.000000    36.000000  1.074562e+06   \n",
       "\n",
       "           Ranking  \n",
       "count  1721.000000  \n",
       "mean    269.610691  \n",
       "std     277.341947  \n",
       "min       3.000000  \n",
       "25%      83.000000  \n",
       "50%     166.000000  \n",
       "75%     333.000000  \n",
       "max    1443.000000  \n",
       "\n",
       "[8 rows x 23 columns]"
      ]
     },
     "execution_count": 44,
     "metadata": {},
     "output_type": "execute_result"
    }
   ],
   "source": [
    "df.describe()"
   ]
  },
  {
   "cell_type": "code",
   "execution_count": 45,
   "metadata": {},
   "outputs": [
    {
     "name": "stdout",
     "output_type": "stream",
     "text": [
      "                                Year  FirstServe  FirstServePointsWon  \\\n",
      "Year                        1.000000    0.051406            -0.016728   \n",
      "FirstServe                  0.051406    1.000000            -0.070659   \n",
      "FirstServePointsWon        -0.016728   -0.070659             1.000000   \n",
      "FirstServeReturnPointsWon  -0.106784    0.025488             0.021729   \n",
      "SecondServePointsWon        0.005300    0.101417             0.320765   \n",
      "SecondServeReturnPointsWon -0.039087   -0.001924            -0.004724   \n",
      "Aces                       -0.108367    0.048149             0.460323   \n",
      "BreakPointsConverted       -0.072404   -0.018877            -0.041538   \n",
      "BreakPointsFaced           -0.101735    0.057709             0.301925   \n",
      "BreakPointsOpportunities   -0.114806    0.062345             0.324853   \n",
      "BreakPointsSaved           -0.006154    0.087945             0.405751   \n",
      "DoubleFaults               -0.071885   -0.005477             0.373321   \n",
      "ReturnGamesPlayed          -0.108405    0.071776             0.375465   \n",
      "ReturnGamesWon             -0.073256   -0.010676            -0.010193   \n",
      "ReturnPointsWon            -0.078229    0.004189            -0.002793   \n",
      "ServiceGamesPlayed         -0.108477    0.071920             0.376460   \n",
      "ServiceGamesWon            -0.008930    0.137473             0.817829   \n",
      "TotalPointsWon             -0.041790    0.148349             0.648753   \n",
      "TotalServicePointsWon      -0.005544    0.180996             0.860033   \n",
      "Wins                       -0.108235    0.064832             0.356702   \n",
      "Losses                     -0.077181    0.053736             0.330581   \n",
      "Winnings                    0.043908    0.057882             0.361121   \n",
      "Ranking                    -0.040483   -0.068759            -0.150004   \n",
      "\n",
      "                            FirstServeReturnPointsWon  SecondServePointsWon  \\\n",
      "Year                                        -0.106784              0.005300   \n",
      "FirstServe                                   0.025488              0.101417   \n",
      "FirstServePointsWon                          0.021729              0.320765   \n",
      "FirstServeReturnPointsWon                    1.000000              0.072707   \n",
      "SecondServePointsWon                         0.072707              1.000000   \n",
      "SecondServeReturnPointsWon                   0.301265              0.103584   \n",
      "Aces                                         0.140165              0.266269   \n",
      "BreakPointsConverted                         0.324057              0.052755   \n",
      "BreakPointsFaced                             0.295724              0.258691   \n",
      "BreakPointsOpportunities                     0.313338              0.277782   \n",
      "BreakPointsSaved                             0.048347              0.340147   \n",
      "DoubleFaults                                 0.244592              0.235941   \n",
      "ReturnGamesPlayed                            0.261871              0.296480   \n",
      "ReturnGamesWon                               0.757435              0.096622   \n",
      "ReturnPointsWon                              0.834267              0.095585   \n",
      "ServiceGamesPlayed                           0.261206              0.296809   \n",
      "ServiceGamesWon                              0.091319              0.650764   \n",
      "TotalPointsWon                               0.496682              0.622673   \n",
      "TotalServicePointsWon                        0.052335              0.713076   \n",
      "Wins                                         0.256029              0.268979   \n",
      "Losses                                       0.243278              0.250918   \n",
      "Winnings                                     0.240808              0.281215   \n",
      "Ranking                                     -0.178664             -0.181013   \n",
      "\n",
      "                            SecondServeReturnPointsWon      Aces  \\\n",
      "Year                                         -0.039087 -0.108367   \n",
      "FirstServe                                   -0.001924  0.048149   \n",
      "FirstServePointsWon                          -0.004724  0.460323   \n",
      "FirstServeReturnPointsWon                     0.301265  0.140165   \n",
      "SecondServePointsWon                          0.103584  0.266269   \n",
      "SecondServeReturnPointsWon                    1.000000  0.095494   \n",
      "Aces                                          0.095494  1.000000   \n",
      "BreakPointsConverted                          0.264413  0.037188   \n",
      "BreakPointsFaced                              0.234212  0.757405   \n",
      "BreakPointsOpportunities                      0.249583  0.784934   \n",
      "BreakPointsSaved                              0.073867  0.282672   \n",
      "DoubleFaults                                  0.193233  0.819031   \n",
      "ReturnGamesPlayed                             0.209937  0.863648   \n",
      "ReturnGamesWon                                0.603755  0.139987   \n",
      "ReturnPointsWon                               0.727338  0.138023   \n",
      "ServiceGamesPlayed                            0.209521  0.866138   \n",
      "ServiceGamesWon                               0.096553  0.440922   \n",
      "TotalPointsWon                                0.408975  0.428679   \n",
      "TotalServicePointsWon                         0.055004  0.472101   \n",
      "Wins                                          0.193093  0.825301   \n",
      "Losses                                        0.185217  0.768628   \n",
      "Winnings                                      0.199401  0.798404   \n",
      "Ranking                                      -0.159592 -0.277811   \n",
      "\n",
      "                            BreakPointsConverted  BreakPointsFaced  \\\n",
      "Year                                   -0.072404         -0.101735   \n",
      "FirstServe                             -0.018877          0.057709   \n",
      "FirstServePointsWon                    -0.041538          0.301925   \n",
      "FirstServeReturnPointsWon               0.324057          0.295724   \n",
      "SecondServePointsWon                    0.052755          0.258691   \n",
      "SecondServeReturnPointsWon              0.264413          0.234212   \n",
      "Aces                                    0.037188          0.757405   \n",
      "BreakPointsConverted                    1.000000          0.096368   \n",
      "BreakPointsFaced                        0.096368          1.000000   \n",
      "BreakPointsOpportunities                0.086502          0.973352   \n",
      "BreakPointsSaved                       -0.015956          0.271783   \n",
      "DoubleFaults                            0.075320          0.917645   \n",
      "ReturnGamesPlayed                       0.083155          0.972449   \n",
      "ReturnGamesWon                          0.561759          0.335205   \n",
      "ReturnPointsWon                         0.387170          0.331043   \n",
      "ServiceGamesPlayed                      0.083182          0.971296   \n",
      "ServiceGamesWon                        -0.025670          0.354012   \n",
      "TotalPointsWon                          0.255050          0.463110   \n",
      "TotalServicePointsWon                  -0.007254          0.354005   \n",
      "Wins                                    0.076989          0.883470   \n",
      "Losses                                  0.062297          0.943309   \n",
      "Winnings                                0.075022          0.876036   \n",
      "Ranking                                -0.051005         -0.322082   \n",
      "\n",
      "                            BreakPointsOpportunities  ...  ReturnGamesWon  \\\n",
      "Year                                       -0.114806  ...       -0.073256   \n",
      "FirstServe                                  0.062345  ...       -0.010676   \n",
      "FirstServePointsWon                         0.324853  ...       -0.010193   \n",
      "FirstServeReturnPointsWon                   0.313338  ...        0.757435   \n",
      "SecondServePointsWon                        0.277782  ...        0.096622   \n",
      "SecondServeReturnPointsWon                  0.249583  ...        0.603755   \n",
      "Aces                                        0.784934  ...        0.139987   \n",
      "BreakPointsConverted                        0.086502  ...        0.561759   \n",
      "BreakPointsFaced                            0.973352  ...        0.335205   \n",
      "BreakPointsOpportunities                    1.000000  ...        0.358483   \n",
      "BreakPointsSaved                            0.247996  ...        0.046127   \n",
      "DoubleFaults                                0.906391  ...        0.274225   \n",
      "ReturnGamesPlayed                           0.978824  ...        0.294470   \n",
      "ReturnGamesWon                              0.358483  ...        1.000000   \n",
      "ReturnPointsWon                             0.352783  ...        0.872216   \n",
      "ServiceGamesPlayed                          0.978278  ...        0.293995   \n",
      "ServiceGamesWon                             0.372271  ...        0.057315   \n",
      "TotalPointsWon                              0.491198  ...        0.549022   \n",
      "TotalServicePointsWon                       0.380716  ...        0.037907   \n",
      "Wins                                        0.923453  ...        0.292920   \n",
      "Losses                                      0.909295  ...        0.263472   \n",
      "Winnings                                    0.900444  ...        0.279645   \n",
      "Ranking                                    -0.334548  ...       -0.191280   \n",
      "\n",
      "                            ReturnPointsWon  ServiceGamesPlayed  \\\n",
      "Year                              -0.078229           -0.108477   \n",
      "FirstServe                         0.004189            0.071920   \n",
      "FirstServePointsWon               -0.002793            0.376460   \n",
      "FirstServeReturnPointsWon          0.834267            0.261206   \n",
      "SecondServePointsWon               0.095585            0.296809   \n",
      "SecondServeReturnPointsWon         0.727338            0.209521   \n",
      "Aces                               0.138023            0.866138   \n",
      "BreakPointsConverted               0.387170            0.083182   \n",
      "BreakPointsFaced                   0.331043            0.971296   \n",
      "BreakPointsOpportunities           0.352783            0.978278   \n",
      "BreakPointsSaved                   0.054317            0.274677   \n",
      "DoubleFaults                       0.271299            0.925879   \n",
      "ReturnGamesPlayed                  0.291782            0.999842   \n",
      "ReturnGamesWon                     0.872216            0.293995   \n",
      "ReturnPointsWon                    1.000000            0.291102   \n",
      "ServiceGamesPlayed                 0.291102            1.000000   \n",
      "ServiceGamesWon                    0.096023            0.418467   \n",
      "TotalPointsWon                     0.565603            0.488998   \n",
      "TotalServicePointsWon              0.047758            0.429605   \n",
      "Wins                               0.280240            0.929153   \n",
      "Losses                             0.265271            0.935182   \n",
      "Winnings                           0.271646            0.912985   \n",
      "Ranking                           -0.202597           -0.331738   \n",
      "\n",
      "                            ServiceGamesWon  TotalPointsWon  \\\n",
      "Year                              -0.008930       -0.041790   \n",
      "FirstServe                         0.137473        0.148349   \n",
      "FirstServePointsWon                0.817829        0.648753   \n",
      "FirstServeReturnPointsWon          0.091319        0.496682   \n",
      "SecondServePointsWon               0.650764        0.622673   \n",
      "SecondServeReturnPointsWon         0.096553        0.408975   \n",
      "Aces                               0.440922        0.428679   \n",
      "BreakPointsConverted              -0.025670        0.255050   \n",
      "BreakPointsFaced                   0.354012        0.463110   \n",
      "BreakPointsOpportunities           0.372271        0.491198   \n",
      "BreakPointsSaved                   0.518091        0.464380   \n",
      "DoubleFaults                       0.378686        0.446670   \n",
      "ReturnGamesPlayed                  0.417825        0.488351   \n",
      "ReturnGamesWon                     0.057315        0.549022   \n",
      "ReturnPointsWon                    0.096023        0.565603   \n",
      "ServiceGamesPlayed                 0.418467        0.488998   \n",
      "ServiceGamesWon                    1.000000        0.727091   \n",
      "TotalPointsWon                     0.727091        1.000000   \n",
      "TotalServicePointsWon              0.934764        0.791356   \n",
      "Wins                               0.385040        0.459368   \n",
      "Losses                             0.367345        0.428543   \n",
      "Winnings                           0.395577        0.461061   \n",
      "Ranking                           -0.198822       -0.272007   \n",
      "\n",
      "                            TotalServicePointsWon      Wins    Losses  \\\n",
      "Year                                    -0.005544 -0.108235 -0.077181   \n",
      "FirstServe                               0.180996  0.064832  0.053736   \n",
      "FirstServePointsWon                      0.860033  0.356702  0.330581   \n",
      "FirstServeReturnPointsWon                0.052335  0.256029  0.243278   \n",
      "SecondServePointsWon                     0.713076  0.268979  0.250918   \n",
      "SecondServeReturnPointsWon               0.055004  0.193093  0.185217   \n",
      "Aces                                     0.472101  0.825301  0.768628   \n",
      "BreakPointsConverted                    -0.007254  0.076989  0.062297   \n",
      "BreakPointsFaced                         0.354005  0.883470  0.943309   \n",
      "BreakPointsOpportunities                 0.380716  0.923453  0.909295   \n",
      "BreakPointsSaved                         0.476143  0.252053  0.246990   \n",
      "DoubleFaults                             0.383379  0.847459  0.881922   \n",
      "ReturnGamesPlayed                        0.428759  0.928408  0.936755   \n",
      "ReturnGamesWon                           0.037907  0.292920  0.263472   \n",
      "ReturnPointsWon                          0.047758  0.280240  0.265271   \n",
      "ServiceGamesPlayed                       0.429605  0.929153  0.935182   \n",
      "ServiceGamesWon                          0.934764  0.385040  0.367345   \n",
      "TotalPointsWon                           0.791356  0.459368  0.428543   \n",
      "TotalServicePointsWon                    1.000000  0.399270  0.371283   \n",
      "Wins                                     0.399270  1.000000  0.878732   \n",
      "Losses                                   0.371283  0.878732  1.000000   \n",
      "Winnings                                 0.407707  0.913297  0.869277   \n",
      "Ranking                                 -0.208355 -0.287018 -0.300614   \n",
      "\n",
      "                            Winnings   Ranking  \n",
      "Year                        0.043908 -0.040483  \n",
      "FirstServe                  0.057882 -0.068759  \n",
      "FirstServePointsWon         0.361121 -0.150004  \n",
      "FirstServeReturnPointsWon   0.240808 -0.178664  \n",
      "SecondServePointsWon        0.281215 -0.181013  \n",
      "SecondServeReturnPointsWon  0.199401 -0.159592  \n",
      "Aces                        0.798404 -0.277811  \n",
      "BreakPointsConverted        0.075022 -0.051005  \n",
      "BreakPointsFaced            0.876036 -0.322082  \n",
      "BreakPointsOpportunities    0.900444 -0.334548  \n",
      "BreakPointsSaved            0.258271 -0.121220  \n",
      "DoubleFaults                0.854685 -0.305866  \n",
      "ReturnGamesPlayed           0.912613 -0.331478  \n",
      "ReturnGamesWon              0.279645 -0.191280  \n",
      "ReturnPointsWon             0.271646 -0.202597  \n",
      "ServiceGamesPlayed          0.912985 -0.331738  \n",
      "ServiceGamesWon             0.395577 -0.198822  \n",
      "TotalPointsWon              0.461061 -0.272007  \n",
      "TotalServicePointsWon       0.407707 -0.208355  \n",
      "Wins                        0.913297 -0.287018  \n",
      "Losses                      0.869277 -0.300614  \n",
      "Winnings                    1.000000 -0.359835  \n",
      "Ranking                    -0.359835  1.000000  \n",
      "\n",
      "[23 rows x 23 columns]\n"
     ]
    }
   ],
   "source": [
    "# exploratory analysis\n",
    "print(df.corr())"
   ]
  },
  {
   "cell_type": "code",
   "execution_count": 46,
   "metadata": {},
   "outputs": [
    {
     "data": {
      "image/png": "[encoded data removed]",
      "text/plain": [
       "<Figure size 432x288 with 1 Axes>"
      ]
     },
     "metadata": {
      "needs_background": "light"
     },
     "output_type": "display_data"
    },
    {
     "data": {
      "text/plain": [
       "<Figure size 432x288 with 0 Axes>"
      ]
     },
     "metadata": {},
     "output_type": "display_data"
    }
   ],
   "source": [
    "plt.scatter(df['FirstServeReturnPointsWon'],df['Winnings'])\n",
    "plt.title('FirstServeReturnPointsWon vs Winnings')\n",
    "plt.xlabel('FirstServeReturnPointsWon')\n",
    "plt.ylabel('Winnings')\n",
    "plt.show()\n",
    "plt.clf()"
   ]
  },
  {
   "cell_type": "code",
   "execution_count": 47,
   "metadata": {},
   "outputs": [
    {
     "data": {
      "image/png": "[encoded data removed]",
      "text/plain": [
       "<Figure size 432x288 with 1 Axes>"
      ]
     },
     "metadata": {
      "needs_background": "light"
     },
     "output_type": "display_data"
    },
    {
     "data": {
      "text/plain": [
       "<Figure size 432x288 with 0 Axes>"
      ]
     },
     "metadata": {},
     "output_type": "display_data"
    }
   ],
   "source": [
    "plt.scatter(df['BreakPointsOpportunities'],df['Winnings'])\n",
    "plt.title('BreakPointsOpportunities vs Winnings')\n",
    "plt.xlabel('BreakPointsOpportunities')\n",
    "plt.ylabel('Winnings')\n",
    "plt.show()\n",
    "plt.clf()"
   ]
  },
  {
   "cell_type": "code",
   "execution_count": 48,
   "metadata": {},
   "outputs": [
    {
     "data": {
      "image/png": "[encoded data removed]",
      "text/plain": [
       "<Figure size 432x288 with 1 Axes>"
      ]
     },
     "metadata": {
      "needs_background": "light"
     },
     "output_type": "display_data"
    },
    {
     "data": {
      "text/plain": [
       "<Figure size 432x288 with 0 Axes>"
      ]
     },
     "metadata": {},
     "output_type": "display_data"
    }
   ],
   "source": [
    "plt.scatter(df['BreakPointsSaved'],df['Winnings'])\n",
    "plt.title('BreakPointsSaved vs Winnings')\n",
    "plt.xlabel('BreakPointsSaved')\n",
    "plt.ylabel('Winnings')\n",
    "plt.show()\n",
    "plt.clf()"
   ]
  },
  {
   "cell_type": "code",
   "execution_count": 49,
   "metadata": {},
   "outputs": [
    {
     "data": {
      "image/png": "[encoded data removed]",
      "text/plain": [
       "<Figure size 432x288 with 1 Axes>"
      ]
     },
     "metadata": {
      "needs_background": "light"
     },
     "output_type": "display_data"
    },
    {
     "data": {
      "text/plain": [
       "<Figure size 432x288 with 0 Axes>"
      ]
     },
     "metadata": {},
     "output_type": "display_data"
    }
   ],
   "source": [
    "plt.scatter(df['TotalPointsWon'],df['Ranking'])\n",
    "plt.title('TotalPointsWon vs Ranking')\n",
    "plt.xlabel('TotalPointsWon')\n",
    "plt.ylabel('Ranking')\n",
    "plt.show()\n",
    "plt.clf()"
   ]
  },
  {
   "cell_type": "code",
   "execution_count": 50,
   "metadata": {},
   "outputs": [
    {
     "data": {
      "image/png": "[encoded data removed]",
      "text/plain": [
       "<Figure size 432x288 with 1 Axes>"
      ]
     },
     "metadata": {
      "needs_background": "light"
     },
     "output_type": "display_data"
    },
    {
     "data": {
      "text/plain": [
       "<Figure size 432x288 with 0 Axes>"
      ]
     },
     "metadata": {},
     "output_type": "display_data"
    }
   ],
   "source": [
    "plt.scatter(df['TotalServicePointsWon'],df['Wins'])\n",
    "plt.title('TotalServicePointsWon vs Wins')\n",
    "plt.xlabel('TotalServicePointsWon')\n",
    "plt.ylabel('Wins')\n",
    "plt.show()\n",
    "plt.clf()"
   ]
  },
  {
   "cell_type": "markdown",
   "metadata": {},
   "source": [
    "\n",
    "Use one feature from the dataset to build a single feature linear regression model on the data. Your model, at this point, should use only one feature and predict one of the outcome columns. Before training the model, split your data into training and test datasets so that you can evaluate your model on the test set. How does your model perform? Plot your model’s predictions on the test set against the actual outcome variable to visualize the performance."
   ]
  },
  {
   "cell_type": "code",
   "execution_count": 51,
   "metadata": {},
   "outputs": [],
   "source": [
    "## single feature linear regression (FirstServeReturnPointsWon)\n",
    "\n",
    "# select features and value to predict\n",
    "features = df[['FirstServeReturnPointsWon']]\n",
    "winnings = df[['Winnings']]"
   ]
  },
  {
   "cell_type": "code",
   "execution_count": 52,
   "metadata": {},
   "outputs": [],
   "source": [
    "# train, test, split the data\n",
    "features_train, features_test, winnings_train, winnings_test = train_test_split(features, winnings, train_size = 0.8)\n"
   ]
  },
  {
   "cell_type": "code",
   "execution_count": 53,
   "metadata": {},
   "outputs": [
    {
     "data": {
      "text/plain": [
       "LinearRegression()"
      ]
     },
     "execution_count": 53,
     "metadata": {},
     "output_type": "execute_result"
    }
   ],
   "source": [
    "# create and train model on training data\n",
    "model = LinearRegression()\n",
    "model.fit(features_train,winnings_train)"
   ]
  },
  {
   "cell_type": "code",
   "execution_count": 54,
   "metadata": {},
   "outputs": [
    {
     "name": "stdout",
     "output_type": "stream",
     "text": [
      "Predicting Winnings with FirstServeReturnPointsWon Test Score: 0.07293124608380963\n"
     ]
    }
   ],
   "source": [
    "# score model on test data\n",
    "print('Predicting Winnings with FirstServeReturnPointsWon Test Score:', model.score(features_test,winnings_test))"
   ]
  },
  {
   "cell_type": "code",
   "execution_count": 55,
   "metadata": {},
   "outputs": [],
   "source": [
    "# make predictions with model\n",
    "winnings_prediction = model.predict(features_test)\n"
   ]
  },
  {
   "cell_type": "code",
   "execution_count": 56,
   "metadata": {},
   "outputs": [
    {
     "data": {
      "image/png": "[encoded data removed]",
      "text/plain": [
       "<Figure size 432x288 with 1 Axes>"
      ]
     },
     "metadata": {
      "needs_background": "light"
     },
     "output_type": "display_data"
    },
    {
     "data": {
      "text/plain": [
       "<Figure size 432x288 with 0 Axes>"
      ]
     },
     "metadata": {},
     "output_type": "display_data"
    }
   ],
   "source": [
    "# plot predictions against actual winnings\n",
    "plt.scatter(winnings_test,winnings_prediction, alpha=0.4)\n",
    "plt.title('Predicted Winnings vs. Actual Winnings - 1 Feature')\n",
    "plt.xlabel('Actual Winnings')\n",
    "plt.ylabel('Predicted Winnings')\n",
    "plt.show()\n",
    "plt.clf()\n"
   ]
  },
  {
   "cell_type": "code",
   "execution_count": 57,
   "metadata": {},
   "outputs": [],
   "source": [
    "## single feature linear regression (BreakPointsOpportunities)\n",
    "\n",
    "# select features and value to predict\n",
    "features = df[['BreakPointsOpportunities']]\n",
    "winnings = df[['Winnings']]"
   ]
  },
  {
   "cell_type": "code",
   "execution_count": 58,
   "metadata": {},
   "outputs": [
    {
     "name": "stdout",
     "output_type": "stream",
     "text": [
      "Predicting Winnings with BreakPointsOpportunities Test Score: 0.8181705412383419\n"
     ]
    }
   ],
   "source": [
    "# train, test, split the data\n",
    "features_train, features_test, winnings_train, winnings_test = train_test_split(features, winnings, train_size = 0.8)\n",
    "\n",
    "# create and train model on training data\n",
    "model = LinearRegression()\n",
    "model.fit(features_train,winnings_train)\n",
    "\n",
    "# score model on test data\n",
    "print('Predicting Winnings with BreakPointsOpportunities Test Score:', model.score(features_test,winnings_test))\n"
   ]
  },
  {
   "cell_type": "code",
   "execution_count": 59,
   "metadata": {},
   "outputs": [
    {
     "data": {
      "image/png": "[encoded data removed]",
      "text/plain": [
       "<Figure size 432x288 with 1 Axes>"
      ]
     },
     "metadata": {
      "needs_background": "light"
     },
     "output_type": "display_data"
    },
    {
     "data": {
      "text/plain": [
       "<Figure size 432x288 with 0 Axes>"
      ]
     },
     "metadata": {},
     "output_type": "display_data"
    }
   ],
   "source": [
    "# make predictions with model\n",
    "winnings_prediction = model.predict(features_test)\n",
    "\n",
    "# plot predictions against actual winnings\n",
    "plt.scatter(winnings_test,winnings_prediction, alpha=0.4)\n",
    "plt.title('Predicted Winnings vs. Actual Winnings - 1 Feature')\n",
    "plt.xlabel('Actual Winnings')\n",
    "plt.ylabel('Predicted Winnings')\n",
    "plt.show()\n",
    "plt.clf()\n"
   ]
  },
  {
   "cell_type": "code",
   "execution_count": 60,
   "metadata": {},
   "outputs": [],
   "source": [
    "# two feature linear regression\n",
    "\n",
    "# select features and value to predict\n",
    "features = df[['BreakPointsOpportunities','FirstServeReturnPointsWon']]\n",
    "winnings = df[['Winnings']]\n"
   ]
  },
  {
   "cell_type": "code",
   "execution_count": 61,
   "metadata": {},
   "outputs": [
    {
     "name": "stdout",
     "output_type": "stream",
     "text": [
      "Predicting Winnings with 2 Features Test Score: 0.8608197021868043\n"
     ]
    }
   ],
   "source": [
    "# train, test, split the data\n",
    "features_train, features_test, winnings_train, winnings_test = train_test_split(features, winnings, train_size = 0.8)\n",
    "\n",
    "# create and train model on training data\n",
    "model = LinearRegression()\n",
    "model.fit(features_train,winnings_train)\n",
    "\n",
    "# score model on test data\n",
    "print('Predicting Winnings with 2 Features Test Score:', model.score(features_test,winnings_test))\n",
    "\n",
    "# make predictions with model\n",
    "winnings_prediction = model.predict(features_test)"
   ]
  },
  {
   "cell_type": "code",
   "execution_count": 62,
   "metadata": {},
   "outputs": [
    {
     "data": {
      "image/png": "[encoded data removed]",
      "text/plain": [
       "<Figure size 432x288 with 1 Axes>"
      ]
     },
     "metadata": {
      "needs_background": "light"
     },
     "output_type": "display_data"
    },
    {
     "data": {
      "text/plain": [
       "<Figure size 432x288 with 0 Axes>"
      ]
     },
     "metadata": {},
     "output_type": "display_data"
    }
   ],
   "source": [
    "# plot predictions against actual winnings\n",
    "plt.scatter(winnings_test,winnings_prediction, alpha=0.4)\n",
    "plt.title('Predicted Winnings vs. Actual Winnings - 2 Features')\n",
    "plt.xlabel('Actual Winnings')\n",
    "plt.ylabel('Predicted Winnings')\n",
    "plt.show()\n",
    "plt.clf()"
   ]
  },
  {
   "cell_type": "code",
   "execution_count": 63,
   "metadata": {},
   "outputs": [],
   "source": [
    "## multiple features linear regression\n",
    "\n",
    "# select features and value to predict\n",
    "features = df[['FirstServe','FirstServePointsWon','FirstServeReturnPointsWon','SecondServePointsWon','SecondServeReturnPointsWon','Aces','BreakPointsConverted','BreakPointsFaced','BreakPointsOpportunities','BreakPointsSaved','DoubleFaults','ReturnGamesPlayed','ReturnGamesWon','ReturnPointsWon','ServiceGamesPlayed','ServiceGamesWon','TotalPointsWon','TotalServicePointsWon']]\n",
    "winnings = df[['Winnings']]"
   ]
  },
  {
   "cell_type": "code",
   "execution_count": 64,
   "metadata": {},
   "outputs": [
    {
     "name": "stdout",
     "output_type": "stream",
     "text": [
      "Predicting Winnings with Multiple Features Test Score: 0.8774124864088096\n"
     ]
    }
   ],
   "source": [
    "# train, test, split the data\n",
    "features_train, features_test, winnings_train, winnings_test = train_test_split(features, winnings, train_size = 0.8)\n",
    "\n",
    "# create and train model on training data\n",
    "model = LinearRegression()\n",
    "model.fit(features_train,winnings_train)\n",
    "\n",
    "# score model on test data\n",
    "print('Predicting Winnings with Multiple Features Test Score:', model.score(features_test,winnings_test))"
   ]
  },
  {
   "cell_type": "code",
   "execution_count": 65,
   "metadata": {},
   "outputs": [
    {
     "data": {
      "image/png": "[encoded data removed]",
      "text/plain": [
       "<Figure size 432x288 with 1 Axes>"
      ]
     },
     "metadata": {
      "needs_background": "light"
     },
     "output_type": "display_data"
    },
    {
     "data": {
      "text/plain": [
       "<Figure size 432x288 with 0 Axes>"
      ]
     },
     "metadata": {},
     "output_type": "display_data"
    }
   ],
   "source": [
    "# make predictions with model\n",
    "winnings_prediction = model.predict(features_test)\n",
    "\n",
    "# plot predictions against actual winnings\n",
    "plt.scatter(winnings_test,winnings_prediction, alpha=0.4)\n",
    "plt.title('Predicted Winnings vs. Actual Winnings - Multiple Features')\n",
    "plt.xlabel('Actual Winnings')\n",
    "plt.ylabel('Predicted Winnings')\n",
    "plt.show()\n",
    "plt.clf()"
   ]
  },
  {
   "cell_type": "code",
   "execution_count": null,
   "metadata": {},
   "outputs": [],
   "source": []
  }
 ],
 "metadata": {
  "kernelspec": {
   "display_name": "Python 3",
   "language": "python",
   "name": "python3"
  },
  "language_info": {
   "codemirror_mode": {
    "name": "ipython",
    "version": 3
   },
   "file_extension": ".py",
   "mimetype": "text/x-python",
   "name": "python",
   "nbconvert_exporter": "python",
   "pygments_lexer": "ipython3",
   "version": "3.8.3"
  }
 },
 "nbformat": 4,
 "nbformat_minor": 4
}
